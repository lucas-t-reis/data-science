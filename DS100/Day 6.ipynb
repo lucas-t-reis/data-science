{
 "cells": [
  {
   "cell_type": "markdown",
   "id": "legitimate-round",
   "metadata": {},
   "source": [
    "# Conditionals and Loops"
   ]
  },
  {
   "cell_type": "code",
   "execution_count": 2,
   "id": "equal-tennis",
   "metadata": {},
   "outputs": [
    {
     "name": "stdout",
     "output_type": "stream",
     "text": [
      "lesser\n"
     ]
    }
   ],
   "source": [
    "# Really simple showcase of the general structure of conditionals in Python\n",
    "a = 70\n",
    "b = 100\n",
    "\n",
    "if a<b:\n",
    "    print('lesser')\n",
    "elif a==b:\n",
    "    print('equal')\n",
    "else:\n",
    "    print('greater')"
   ]
  },
  {
   "cell_type": "code",
   "execution_count": 13,
   "id": "material-province",
   "metadata": {},
   "outputs": [
    {
     "name": "stdout",
     "output_type": "stream",
     "text": [
      "Standard\n",
      "['Google', 'Microsoft', 'Facebook', 'Apple', 'GitHub']\n",
      "\n",
      "Range with n-step\n",
      "Google\n",
      "Facebook\n",
      "GitHub\n",
      "\n",
      "Iterator\n",
      "Google\n",
      "Microsoft\n",
      "Facebook\n",
      "Apple\n",
      "GitHub\n",
      "\n",
      "Index-Value tuple\n",
      "(0, 'Google')\n",
      "(1, 'Microsoft')\n",
      "(2, 'Facebook')\n",
      "(3, 'Apple')\n",
      "(4, 'GitHub')\n"
     ]
    }
   ],
   "source": [
    "# FOR LOOPS\n",
    "\n",
    "corps = ['Google', 'Microsoft', 'Facebook', 'Apple', 'GitHub']\n",
    "\n",
    "# Standard way\n",
    "print('Standard')\n",
    "print(corps)\n",
    "\n",
    "# Using index\n",
    "print('\\nRange with n-step')\n",
    "for i in range(0,len(corps),2):\n",
    "    print(corps[i])\n",
    "\n",
    "# Iterating over elements\n",
    "print('\\nIterator')\n",
    "for c in corps:\n",
    "    print(c)\n",
    "\n",
    "# Getting index and value as a tuple\n",
    "print('\\nIndex-Value tuple')\n",
    "for i in enumerate(corps):\n",
    "    print(i)"
   ]
  },
  {
   "cell_type": "code",
   "execution_count": 21,
   "id": "academic-february",
   "metadata": {},
   "outputs": [
    {
     "name": "stdout",
     "output_type": "stream",
     "text": [
      "For-like while\n",
      "Google\n",
      "Microsoft\n",
      "Facebook\n",
      "Apple\n",
      "GitHub\n",
      "\n",
      "Until some other non-numeric condition is met\n",
      "We still have some blah...\n",
      "We still have some blah...\n",
      "We still have some blah...\n",
      "Yay! No more blah.\n"
     ]
    }
   ],
   "source": [
    "# WHILE LOOPS\n",
    "\n",
    "# Vanilla\n",
    "print('For-like while')\n",
    "i = 0\n",
    "while i<len(corps):\n",
    "    print(corps[i])\n",
    "    i += 1\n",
    "\n",
    "# Non-numeric condition\n",
    "print('\\nUntil some other non-numeric condition is met')\n",
    "a = ['blah', 'blah', 'blah']    \n",
    "while 'blah' in a:\n",
    "    print('We still have some blah...')\n",
    "    a.remove('blah')\n",
    "print('Yay! No more blah.')"
   ]
  }
 ],
 "metadata": {
  "kernelspec": {
   "display_name": "Python 3",
   "language": "python",
   "name": "python3"
  },
  "language_info": {
   "codemirror_mode": {
    "name": "ipython",
    "version": 3
   },
   "file_extension": ".py",
   "mimetype": "text/x-python",
   "name": "python",
   "nbconvert_exporter": "python",
   "pygments_lexer": "ipython3",
   "version": "3.8.5"
  }
 },
 "nbformat": 4,
 "nbformat_minor": 5
}
