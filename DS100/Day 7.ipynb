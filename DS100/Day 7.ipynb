{
 "cells": [
  {
   "cell_type": "markdown",
   "id": "verified-table",
   "metadata": {},
   "source": [
    "# Functions and Lambdas"
   ]
  },
  {
   "cell_type": "code",
   "execution_count": 13,
   "id": "protecting-thompson",
   "metadata": {},
   "outputs": [
    {
     "name": "stdout",
     "output_type": "stream",
     "text": [
      "10\n",
      "1\n",
      "2\n",
      "3\n",
      "3.14\n"
     ]
    }
   ],
   "source": [
    "def some_function(some_arg):\n",
    "    print(some_arg)\n",
    "    return type(some_arg)\n",
    "\n",
    "a = 10\n",
    "some_function(a)\n",
    "\n",
    "def multiple_args(*args):\n",
    "    for a in args:\n",
    "        print(a)\n",
    "\n",
    "multiple_args(1,2,'3', 3.14)"
   ]
  },
  {
   "cell_type": "code",
   "execution_count": 15,
   "id": "verified-words",
   "metadata": {},
   "outputs": [
    {
     "name": "stdout",
     "output_type": "stream",
     "text": [
      "3\n",
      "4\n"
     ]
    },
    {
     "data": {
      "text/plain": [
       "int"
      ]
     },
     "execution_count": 15,
     "metadata": {},
     "output_type": "execute_result"
    }
   ],
   "source": [
    "# Normal use of lambda\n",
    "a = lambda x: some_function(x+1)\n",
    "a(2)\n",
    "\n",
    "# Weird but works\n",
    "(lambda y: some_function(2+2))(2)"
   ]
  },
  {
   "cell_type": "code",
   "execution_count": 16,
   "id": "honey-silver",
   "metadata": {},
   "outputs": [
    {
     "name": "stdout",
     "output_type": "stream",
     "text": [
      "11\n"
     ]
    },
    {
     "data": {
      "text/plain": [
       "int"
      ]
     },
     "execution_count": 16,
     "metadata": {},
     "output_type": "execute_result"
    }
   ],
   "source": [
    "def takes_a_function(val, function):\n",
    "    return function(val)\n",
    "\n",
    "takes_a_function(10, a)"
   ]
  },
  {
   "cell_type": "code",
   "execution_count": 24,
   "id": "nonprofit-booth",
   "metadata": {},
   "outputs": [
    {
     "name": "stdout",
     "output_type": "stream",
     "text": [
      "[2, 4, 6, 8]\n",
      "[('f', 0), ('k', 1), ('c', 2), ('a', 4)]\n"
     ]
    }
   ],
   "source": [
    "# Lambda to create a filter\n",
    "nums = [1,2,3,4,5,6,7,8,9]\n",
    "filtered_nums = list(filter(lambda x: x%2 == 0, nums))\n",
    "print(filtered_nums)\n",
    "\n",
    "# Using lambda to build a custom sort\n",
    "dic_list  = [('a',4), ('c',2), ('f',0), ('k',1)]\n",
    "dic_list.sort(key = lambda x: x[1] )\n",
    "print(dic_list)"
   ]
  }
 ],
 "metadata": {
  "kernelspec": {
   "display_name": "Python 3",
   "language": "python",
   "name": "python3"
  },
  "language_info": {
   "codemirror_mode": {
    "name": "ipython",
    "version": 3
   },
   "file_extension": ".py",
   "mimetype": "text/x-python",
   "name": "python",
   "nbconvert_exporter": "python",
   "pygments_lexer": "ipython3",
   "version": "3.8.5"
  }
 },
 "nbformat": 4,
 "nbformat_minor": 5
}
