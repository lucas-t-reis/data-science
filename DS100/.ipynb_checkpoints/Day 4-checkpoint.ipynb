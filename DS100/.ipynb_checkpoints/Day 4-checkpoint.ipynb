{
 "cells": [
  {
   "cell_type": "markdown",
   "id": "mathematical-small",
   "metadata": {},
   "source": [
    "# Lists, Tuples, Set and Dictionary"
   ]
  },
  {
   "cell_type": "code",
   "execution_count": 28,
   "id": "assigned-gregory",
   "metadata": {},
   "outputs": [
    {
     "name": "stdout",
     "output_type": "stream",
     "text": [
      "Testing [] operator 1 [1, 2, '3', 4.0, 'a', 'b', 'c', 5.02] ['b', 'c', 5.02] [1, 2, '3', 4.0, 'a', 'b'] [1, '3', 'a', 'c']\n",
      "Testing append and insert: [1, 2, '3', '3.5', 4.0, 'a', 'b', 'c', 5.02, 'Blah', 'Blah', 'Blah']\n",
      "[1, 2, '3', '3.5', 4.0, 'a', 'b', 'c', 5.02]\n",
      "False True\n",
      "[1, 2, '3', '3.5', 4.0, 'a', 'b', 'c', 5.02, 'another', 'pointless', 'list']\n",
      "['a', 'k', 'l', 'x', 'z']\n",
      "[]\n",
      "['hey ho', 'repeat', 'me', 'hey ho', 'repeat', 'me', 'hey ho', 'repeat', 'me']\n",
      "hey ho repeat\n"
     ]
    }
   ],
   "source": [
    "# Lists can have multiple data types, are ordered and  can change\n",
    "a_list = [1,2,'3', 4.0, 'a', 'b', 'c', 5.02]\n",
    "print('Testing [] operator',\n",
    "      a_list[0],   # Vanilla index acess, printing element at pos 0\n",
    "      a_list[:],   # Print everything from beginning to end\n",
    "      a_list[-3:], # From third from the end until the end\n",
    "      a_list[:-2], # From the beginning until (not inclusive) the second from last element\n",
    "      a_list[::2]  # Step 2 positions from every element from the beginning\n",
    ") \n",
    "\n",
    "type(a_list)\n",
    "\n",
    "a_list.append('Blah')  # Adds to last position\n",
    "a_list.append('Blah') \n",
    "a_list.append('Blah')  \n",
    "\n",
    "a_list.insert(3,'3.5') # Inserts before arg1\n",
    "\n",
    "print('Testing append and insert:', a_list)\n",
    "a_list.remove('Blah')  # Removes the first occurrence of 'Blah'\n",
    "del a_list[-1]         # Removes the element at a given index\n",
    "a_list.pop()           # Removes the last element from the list or the element at a given position\n",
    "print(a_list)\n",
    "\n",
    "\n",
    "\n",
    "# By default Python binds when assigning. If we want to avoid that, we must either use shallow/deep copy\n",
    "a_copy_1 = a_list.copy()\n",
    "a_copy_2 = a_list\n",
    "\n",
    "print(a_copy_1 is a_list, a_copy_2 is a_list)\n",
    "print(a_list + ['another', 'pointless', 'list'])\n",
    "\n",
    "print(sorted(['z', 'a', 'l', 'k', 'x'])) # All list elements must have the same dataype for sorted() to work\n",
    "a_copy_1.clear()\n",
    "print(a_copy_1)\n",
    "\n",
    "\n",
    "big_list = ['hey ho', 'repeat', 'me']*3\n",
    "print(big_list) # * operator replicates the list n times\n",
    "print(min(big_list), max(big_list))\n"
   ]
  },
  {
   "cell_type": "code",
   "execution_count": 30,
   "id": "intended-military",
   "metadata": {},
   "outputs": [
    {
     "name": "stdout",
     "output_type": "stream",
     "text": [
      "3\n"
     ]
    },
    {
     "ename": "TypeError",
     "evalue": "'tuple' object does not support item assignment",
     "output_type": "error",
     "traceback": [
      "\u001b[0;31m---------------------------------------------------------------------------\u001b[0m",
      "\u001b[0;31mTypeError\u001b[0m                                 Traceback (most recent call last)",
      "\u001b[0;32m<ipython-input-30-c041df50b5ea>\u001b[0m in \u001b[0;36m<module>\u001b[0;34m\u001b[0m\n\u001b[1;32m      7\u001b[0m \u001b[0;34m\u001b[0m\u001b[0m\n\u001b[1;32m      8\u001b[0m \u001b[0;31m# Both will throw an error\u001b[0m\u001b[0;34m\u001b[0m\u001b[0;34m\u001b[0m\u001b[0;34m\u001b[0m\u001b[0m\n\u001b[0;32m----> 9\u001b[0;31m \u001b[0ma_tuple\u001b[0m\u001b[0;34m[\u001b[0m\u001b[0;36m1\u001b[0m\u001b[0;34m]\u001b[0m \u001b[0;34m=\u001b[0m \u001b[0;36m0\u001b[0m\u001b[0;34m\u001b[0m\u001b[0;34m\u001b[0m\u001b[0m\n\u001b[0m\u001b[1;32m     10\u001b[0m \u001b[0;32mdel\u001b[0m \u001b[0ma_tuple\u001b[0m\u001b[0;34m[\u001b[0m\u001b[0;36m4\u001b[0m\u001b[0;34m]\u001b[0m\u001b[0;34m\u001b[0m\u001b[0;34m\u001b[0m\u001b[0m\n\u001b[1;32m     11\u001b[0m \u001b[0;34m\u001b[0m\u001b[0m\n",
      "\u001b[0;31mTypeError\u001b[0m: 'tuple' object does not support item assignment"
     ]
    }
   ],
   "source": [
    "# Tuples are faster than list but can't change\n",
    "a_tuple = (1,2,3,4,5,5,6)\n",
    "\n",
    "print(a_tuple[2])\n",
    "# This works\n",
    "#del a_tuple\n",
    "\n",
    "# Both will throw an error\n",
    "a_tuple[1] = 0\n",
    "del a_tuple[4]\n",
    "\n"
   ]
  },
  {
   "cell_type": "code",
   "execution_count": 11,
   "id": "billion-stevens",
   "metadata": {},
   "outputs": [
    {
     "data": {
      "text/plain": [
       "(1, 2, [3])"
      ]
     },
     "execution_count": 11,
     "metadata": {},
     "output_type": "execute_result"
    }
   ],
   "source": [
    "# But there are some sneaky ways to go past it\n",
    "a_tuple = (1,2,[])\n",
    "a_tuple[2].append(3)\n",
    "a_tuple"
   ]
  }
 ],
 "metadata": {
  "kernelspec": {
   "display_name": "Python 3",
   "language": "python",
   "name": "python3"
  },
  "language_info": {
   "codemirror_mode": {
    "name": "ipython",
    "version": 3
   },
   "file_extension": ".py",
   "mimetype": "text/x-python",
   "name": "python",
   "nbconvert_exporter": "python",
   "pygments_lexer": "ipython3",
   "version": "3.8.5"
  }
 },
 "nbformat": 4,
 "nbformat_minor": 5
}
