{
 "cells": [
  {
   "cell_type": "markdown",
   "id": "foster-vancouver",
   "metadata": {},
   "source": [
    "# Sets and Dictionary"
   ]
  },
  {
   "cell_type": "code",
   "execution_count": 1,
   "id": "solved-parent",
   "metadata": {},
   "outputs": [
    {
     "data": {
      "text/plain": [
       "set"
      ]
     },
     "execution_count": 1,
     "metadata": {},
     "output_type": "execute_result"
    }
   ],
   "source": [
    "alphabet = {'a', 'b', 'c', 'd'}\n",
    "type(alphabet)"
   ]
  },
  {
   "cell_type": "code",
   "execution_count": 10,
   "id": "alert-skating",
   "metadata": {},
   "outputs": [
    {
     "name": "stdout",
     "output_type": "stream",
     "text": [
      "{'c', 1, 'z', 'd', 'a', (12, 2), 'b'}\n"
     ]
    },
    {
     "ename": "TypeError",
     "evalue": "unhashable type: 'list'",
     "output_type": "error",
     "traceback": [
      "\u001b[0;31m---------------------------------------------------------------------------\u001b[0m",
      "\u001b[0;31mTypeError\u001b[0m                                 Traceback (most recent call last)",
      "\u001b[0;32m<ipython-input-10-b1a8d4c29aa8>\u001b[0m in \u001b[0;36m<module>\u001b[0;34m\u001b[0m\n\u001b[1;32m      4\u001b[0m \u001b[0mprint\u001b[0m\u001b[0;34m(\u001b[0m\u001b[0malphabet\u001b[0m\u001b[0;34m)\u001b[0m\u001b[0;34m\u001b[0m\u001b[0;34m\u001b[0m\u001b[0m\n\u001b[1;32m      5\u001b[0m \u001b[0;31m# Will throw an error, sets don't accept mutable objects\u001b[0m\u001b[0;34m\u001b[0m\u001b[0;34m\u001b[0m\u001b[0;34m\u001b[0m\u001b[0m\n\u001b[0;32m----> 6\u001b[0;31m \u001b[0malphabet\u001b[0m\u001b[0;34m.\u001b[0m\u001b[0madd\u001b[0m\u001b[0;34m(\u001b[0m\u001b[0;34m[\u001b[0m\u001b[0;36m1\u001b[0m\u001b[0;34m,\u001b[0m\u001b[0;36m2\u001b[0m\u001b[0;34m]\u001b[0m\u001b[0;34m)\u001b[0m\u001b[0;34m\u001b[0m\u001b[0;34m\u001b[0m\u001b[0m\n\u001b[0m",
      "\u001b[0;31mTypeError\u001b[0m: unhashable type: 'list'"
     ]
    }
   ],
   "source": [
    "alphabet.add('z') # No guarantee of where the item will be isnerted, since there is no order\n",
    "alphabet.add('a') # No duplicates\n",
    "alphabet.add((12,2)) # Multiple data types  allowed\n",
    "print(alphabet)\n",
    "# Will throw an error, sets don't accept mutable objects\n",
    "alphabet.add([1,2])"
   ]
  },
  {
   "cell_type": "code",
   "execution_count": 14,
   "id": "representative-memorabilia",
   "metadata": {},
   "outputs": [
    {
     "ename": "KeyError",
     "evalue": "'x'",
     "output_type": "error",
     "traceback": [
      "\u001b[0;31m---------------------------------------------------------------------------\u001b[0m",
      "\u001b[0;31mKeyError\u001b[0m                                  Traceback (most recent call last)",
      "\u001b[0;32m<ipython-input-14-271a1a004498>\u001b[0m in \u001b[0;36m<module>\u001b[0;34m\u001b[0m\n\u001b[1;32m      2\u001b[0m \u001b[0malphabet\u001b[0m\u001b[0;34m.\u001b[0m\u001b[0mdiscard\u001b[0m\u001b[0;34m(\u001b[0m\u001b[0;34m'x'\u001b[0m\u001b[0;34m)\u001b[0m \u001b[0;31m# x is not there, no problem, no error\u001b[0m\u001b[0;34m\u001b[0m\u001b[0;34m\u001b[0m\u001b[0m\n\u001b[1;32m      3\u001b[0m \u001b[0malphabet\u001b[0m\u001b[0;34m.\u001b[0m\u001b[0mpop\u001b[0m\u001b[0;34m(\u001b[0m\u001b[0;34m)\u001b[0m        \u001b[0;31m# deletes a random element\u001b[0m\u001b[0;34m\u001b[0m\u001b[0;34m\u001b[0m\u001b[0m\n\u001b[0;32m----> 4\u001b[0;31m \u001b[0malphabet\u001b[0m\u001b[0;34m.\u001b[0m\u001b[0mremove\u001b[0m\u001b[0;34m(\u001b[0m\u001b[0;34m'x'\u001b[0m\u001b[0;34m)\u001b[0m \u001b[0;31m# can only remove elements that belongs to the set\u001b[0m\u001b[0;34m\u001b[0m\u001b[0;34m\u001b[0m\u001b[0m\n\u001b[0m\u001b[1;32m      5\u001b[0m \u001b[0;32mdel\u001b[0m \u001b[0malphabet\u001b[0m\u001b[0;34m[\u001b[0m\u001b[0;36m2\u001b[0m\u001b[0;34m]\u001b[0m \u001b[0;31m# Won't work, since set is not ordered\u001b[0m\u001b[0;34m\u001b[0m\u001b[0;34m\u001b[0m\u001b[0m\n",
      "\u001b[0;31mKeyError\u001b[0m: 'x'"
     ]
    }
   ],
   "source": [
    "# Discard, Remove and Pop\n",
    "alphabet.discard('x') # x is not there, no problem, no error\n",
    "alphabet.pop()        # deletes a random element\n",
    "alphabet.remove('x') # can only remove elements that belongs to the set\n",
    "del alphabet[2] # Won't work, since set is not ordered"
   ]
  },
  {
   "cell_type": "code",
   "execution_count": 29,
   "id": "removable-overview",
   "metadata": {},
   "outputs": [
    {
     "name": "stdout",
     "output_type": "stream",
     "text": [
      "{'a', 'c', 'd', 'b'}\n",
      "{'c', 'g', 'e', 'f', 'a', 'b'}\n",
      "{'g', 'e', 'f', 'a', 'b'} {'g', 'e', 'f', 'a', 'b'}\n",
      "{'c', 'g', 'e', 'f', 'a'}\n",
      "False True\n",
      "{'c'}\n"
     ]
    }
   ],
   "source": [
    "a = {'a', 'b', 'c'}\n",
    "b = {'c', 'd'} \n",
    "print(a.union(b))\n",
    "\n",
    "# Adding multiple data to a set\n",
    "more_data = ('e', 'f', 'g', 'a')\n",
    "a.update(more_data)\n",
    "print(a)\n",
    "\n",
    "# Difference between sets in two ways\n",
    "print(a.difference(b), a - b)\n",
    "a.difference_update({'b'}) # Removes the intersection from a\n",
    "print(a)\n",
    "\n",
    "\n",
    "# Checking if the sets are disjoint\n",
    "print(a.isdisjoint(b), b.isdisjoint({'z'}))\n",
    "\n",
    "# Printing the intersection\n",
    "print(a.intersection(b))"
   ]
  },
  {
   "cell_type": "markdown",
   "id": "tropical-origin",
   "metadata": {},
   "source": [
    "# Dictionary"
   ]
  },
  {
   "cell_type": "code",
   "execution_count": 42,
   "id": "employed-institution",
   "metadata": {},
   "outputs": [
    {
     "name": "stdout",
     "output_type": "stream",
     "text": [
      "{'name': 'John', 'birth': 1930, 'job': 'butcher'}\n",
      "John\n",
      "{'name': 'John', 'birth': 1930, 'job': 'butcher', 'likes': ['psy', 'rock', 'games']}\n",
      "{'name': 'John', 'birth': 1930, 'job': 'butcher'}\n",
      "{'name': 'John', 'birth': 1930}\n",
      "{'name': 'John', 'birth': 1930, 'job': 'Hackerman'} {'name': 'John', 'birth': 1930}\n",
      "{}\n"
     ]
    },
    {
     "ename": "NameError",
     "evalue": "name 'person' is not defined",
     "output_type": "error",
     "traceback": [
      "\u001b[0;31m---------------------------------------------------------------------------\u001b[0m",
      "\u001b[0;31mNameError\u001b[0m                                 Traceback (most recent call last)",
      "\u001b[0;32m<ipython-input-42-3fffa1d229bb>\u001b[0m in \u001b[0;36m<module>\u001b[0;34m\u001b[0m\n\u001b[1;32m     25\u001b[0m \u001b[0mprint\u001b[0m\u001b[0;34m(\u001b[0m\u001b[0mc\u001b[0m\u001b[0;34m)\u001b[0m\u001b[0;34m\u001b[0m\u001b[0;34m\u001b[0m\u001b[0m\n\u001b[1;32m     26\u001b[0m \u001b[0;32mdel\u001b[0m \u001b[0mperson\u001b[0m \u001b[0;31m# Destroys everything :o\u001b[0m\u001b[0;34m\u001b[0m\u001b[0;34m\u001b[0m\u001b[0m\n\u001b[0;32m---> 27\u001b[0;31m \u001b[0mprint\u001b[0m\u001b[0;34m(\u001b[0m\u001b[0mperson\u001b[0m\u001b[0;34m)\u001b[0m \u001b[0;31m# Will throw an error\u001b[0m\u001b[0;34m\u001b[0m\u001b[0;34m\u001b[0m\u001b[0m\n\u001b[0m",
      "\u001b[0;31mNameError\u001b[0m: name 'person' is not defined"
     ]
    }
   ],
   "source": [
    "person = {\n",
    "    'name':'John',\n",
    "    'birth':1930,\n",
    "    'job':'butcher'\n",
    "}\n",
    "\n",
    "print(person)\n",
    "print(person['name'])\n",
    "person['likes'] = ['psy', 'rock', 'games']\n",
    "print(person)\n",
    "person.popitem() # deletes last item added\n",
    "print(person)\n",
    "del person['job']\n",
    "print(person)\n",
    "\n",
    "\n",
    "b = person\n",
    "c = person.copy()\n",
    "b['job'] = 'Hackerman'\n",
    "print(person, c)\n",
    "\n",
    "\n",
    "\n",
    "c.clear() # Empty the dict without deleting its reference\n",
    "print(c) \n",
    "del person # Destroys everything :o\n",
    "print(person) # Will throw an error"
   ]
  }
 ],
 "metadata": {
  "kernelspec": {
   "display_name": "Python 3",
   "language": "python",
   "name": "python3"
  },
  "language_info": {
   "codemirror_mode": {
    "name": "ipython",
    "version": 3
   },
   "file_extension": ".py",
   "mimetype": "text/x-python",
   "name": "python",
   "nbconvert_exporter": "python",
   "pygments_lexer": "ipython3",
   "version": "3.8.5"
  }
 },
 "nbformat": 4,
 "nbformat_minor": 5
}
