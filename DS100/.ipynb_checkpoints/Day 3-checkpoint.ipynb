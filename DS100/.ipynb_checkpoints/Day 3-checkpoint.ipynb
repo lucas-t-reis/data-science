{
 "cells": [
  {
   "cell_type": "markdown",
   "metadata": {},
   "source": [
    "# Numeric and Boolean data types and arithmetic operators"
   ]
  },
  {
   "cell_type": "markdown",
   "metadata": {},
   "source": [
    "Basic conversion between `int` and `float`"
   ]
  },
  {
   "cell_type": "code",
   "execution_count": 31,
   "metadata": {},
   "outputs": [
    {
     "name": "stdout",
     "output_type": "stream",
     "text": [
      "<class 'int'> <class 'float'>\n"
     ]
    }
   ],
   "source": [
    "n_integer = 100\n",
    "n_float = 100.0\n",
    "print(type(n_integer), type(n_float))"
   ]
  },
  {
   "cell_type": "code",
   "execution_count": 32,
   "metadata": {},
   "outputs": [
    {
     "data": {
      "text/plain": [
       "100"
      ]
     },
     "execution_count": 32,
     "metadata": {},
     "output_type": "execute_result"
    }
   ],
   "source": [
    "int(n_float)"
   ]
  },
  {
   "cell_type": "code",
   "execution_count": 33,
   "metadata": {},
   "outputs": [
    {
     "data": {
      "text/plain": [
       "100.0"
      ]
     },
     "execution_count": 33,
     "metadata": {},
     "output_type": "execute_result"
    }
   ],
   "source": [
    "float(n_integer)"
   ]
  },
  {
   "cell_type": "code",
   "execution_count": 34,
   "metadata": {},
   "outputs": [
    {
     "data": {
      "text/plain": [
       "3"
      ]
     },
     "execution_count": 34,
     "metadata": {},
     "output_type": "execute_result"
    }
   ],
   "source": [
    "# Checking wether the casting truncates or it rounds\n",
    "n = 3.97\n",
    "int(n)"
   ]
  },
  {
   "cell_type": "code",
   "execution_count": 50,
   "metadata": {},
   "outputs": [
    {
     "name": "stdout",
     "output_type": "stream",
     "text": [
      "True False True 0 1 1 -2 False\n"
     ]
    }
   ],
   "source": [
    "# Testing boolean operators\n",
    "print(n>1, n==n_integer, n_float <= n_integer, 1 and 0, 1 or 0, 1 ^ 0, ~True, not True)"
   ]
  },
  {
   "cell_type": "code",
   "execution_count": 36,
   "metadata": {},
   "outputs": [
    {
     "name": "stdout",
     "output_type": "stream",
     "text": [
      "1.0 1 False\n"
     ]
    }
   ],
   "source": [
    "# Checking casting results\n",
    "print(float(True), int(True), bool(None))"
   ]
  },
  {
   "cell_type": "code",
   "execution_count": 37,
   "metadata": {},
   "outputs": [
    {
     "name": "stdout",
     "output_type": "stream",
     "text": [
      "True False\n"
     ]
    }
   ],
   "source": [
    "arr_filled = [1,2,3,4]\n",
    "arr_empty = []\n",
    "\n",
    "print(bool(arr_filled), bool(arr_empty))"
   ]
  },
  {
   "cell_type": "code",
   "execution_count": 38,
   "metadata": {},
   "outputs": [],
   "source": [
    "# Simple sum\n",
    "x = 1\n",
    "y = 2.3\n",
    "x+y\n",
    "\n",
    "# Atibution + sum\n",
    "x += y\n"
   ]
  },
  {
   "cell_type": "code",
   "execution_count": 39,
   "metadata": {},
   "outputs": [
    {
     "name": "stdout",
     "output_type": "stream",
     "text": [
      "10\n",
      "2.5 2\n",
      "1\n"
     ]
    }
   ],
   "source": [
    "# Multiplication\n",
    "x = 2\n",
    "y = 5\n",
    "print(x*y)\n",
    "\n",
    "# Real division and floor\n",
    "print(y/x, y//x)\n",
    "# Remainder\n",
    "print(y%x)"
   ]
  },
  {
   "cell_type": "code",
   "execution_count": 40,
   "metadata": {},
   "outputs": [
    {
     "name": "stdout",
     "output_type": "stream",
     "text": [
      "4\n",
      "4\n"
     ]
    }
   ],
   "source": [
    "# Exponentiation\n",
    "print(2**2)\n",
    "x = 2\n",
    "y = 2\n",
    "x **= y\n",
    "print(x)"
   ]
  },
  {
   "cell_type": "markdown",
   "metadata": {},
   "source": [
    "# Is and In operator"
   ]
  },
  {
   "cell_type": "code",
   "execution_count": 55,
   "metadata": {},
   "outputs": [
    {
     "name": "stdout",
     "output_type": "stream",
     "text": [
      "False True\n",
      "['a', 'b', 'c', 'magic']\n",
      "True True False\n"
     ]
    }
   ],
   "source": [
    "x = ['a', 'b', 'c']\n",
    "y = ['a', 'b', 'c']\n",
    "\n",
    "# Basically a pointer\n",
    "z = y\n",
    "\n",
    "print(x is y, z is y)\n",
    "\n",
    "# Making the trick evident\n",
    "y.append('magic')\n",
    "print(z)\n",
    "\n",
    "# Checks if a value is present in the list\n",
    "print('magic' in z, 'a' in x, 'magic' in x)"
   ]
  }
 ],
 "metadata": {
  "kernelspec": {
   "display_name": "Python 3",
   "language": "python",
   "name": "python3"
  },
  "language_info": {
   "codemirror_mode": {
    "name": "ipython",
    "version": 3
   },
   "file_extension": ".py",
   "mimetype": "text/x-python",
   "name": "python",
   "nbconvert_exporter": "python",
   "pygments_lexer": "ipython3",
   "version": "3.8.5"
  }
 },
 "nbformat": 4,
 "nbformat_minor": 4
}
