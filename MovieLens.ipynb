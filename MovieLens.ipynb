{
  "nbformat": 4,
  "nbformat_minor": 0,
  "metadata": {
    "colab": {
      "name": "MovieLens exploratory analysis",
      "provenance": [],
      "collapsed_sections": [],
      "authorship_tag": "ABX9TyOplwWTSEJsG+kiOUnhDncU",
      "include_colab_link": true
    },
    "kernelspec": {
      "name": "python3",
      "display_name": "Python 3"
    }
  },
  "cells": [
    {
      "cell_type": "markdown",
      "metadata": {
        "id": "view-in-github",
        "colab_type": "text"
      },
      "source": [
        "<a href=\"https://colab.research.google.com/github/lucas-t-reis/data-science/blob/master/MovieLens_exploratory_analysis.ipynb\" target=\"_parent\"><img src=\"https://colab.research.google.com/assets/colab-badge.svg\" alt=\"Open In Colab\"/></a>"
      ]
    },
    {
      "cell_type": "markdown",
      "metadata": {
        "id": "jLC89kA5rLwS",
        "colab_type": "text"
      },
      "source": [
        "# Initial setup\n",
        "Setting up necessary libs and importing the dataset\n"
      ]
    },
    {
      "cell_type": "code",
      "metadata": {
        "id": "QtmwTWYTrB8l",
        "colab_type": "code",
        "colab": {}
      },
      "source": [
        "import matplotlib.pyplot as plt\n",
        "import seaborn as sns\n",
        "import pandas as pd\n",
        "import numpy as np\n",
        "\n",
        "movies = pd.read_csv(\"https://raw.githubusercontent.com/lucas-t-reis/data-science/master/datasets/ml-latest-small/movies.csv\")\n",
        "ratings = pd.read_csv(\"https://raw.githubusercontent.com/lucas-t-reis/data-science/master/datasets/ml-latest-small/ratings.csv\")"
      ],
      "execution_count": 0,
      "outputs": []
    },
    {
      "cell_type": "markdown",
      "metadata": {
        "id": "MZTYCABuxvoN",
        "colab_type": "text"
      },
      "source": [
        "# Movie rating histogram\n"
      ]
    },
    {
      "cell_type": "code",
      "metadata": {
        "id": "OttEUysRw-Lc",
        "colab_type": "code",
        "outputId": "8f5651f7-cb43-4114-8ac4-a385d6f1735f",
        "colab": {
          "base_uri": "https://localhost:8080/",
          "height": 281
        }
      },
      "source": [
        "# Histogram parameter adjustment\n",
        "offset = 0.5\n",
        "hist_start = ratings[\"rating\"].min()\n",
        "hist_end = ratings[\"rating\"].max()\n",
        "\n",
        "# Plotting\n",
        "plt.hist(ratings[\"rating\"], bins=np.arange(hist_start, hist_end + offset, offset) )\n",
        "plt.title(\"Rating frequency\")\n",
        "plt.show()\n"
      ],
      "execution_count": 59,
      "outputs": [
        {
          "output_type": "display_data",
          "data": {
            "image/png": "[encoded data removed]",
            "text/plain": [
              "<Figure size 432x288 with 1 Axes>"
            ]
          },
          "metadata": {
            "tags": []
          }
        }
      ]
    },
    {
      "cell_type": "markdown",
      "metadata": {
        "id": "HLToGkQg4_lf",
        "colab_type": "text"
      },
      "source": [
        "Observations:\n",
        "- The majority of users tend to rate a movie with a score higher than 3\n",
        "\n",
        "Now let us group each movie with it's average rating."
      ]
    },
    {
      "cell_type": "code",
      "metadata": {
        "id": "AbqaG3B4xK3W",
        "colab_type": "code",
        "outputId": "d8cb9136-0ef5-4972-d865-f8728a9dc838",
        "colab": {
          "base_uri": "https://localhost:8080/",
          "height": 669
        }
      },
      "source": [
        "# Getting the average rating of each movie\n",
        "movie_avg_rating = ratings.groupby(\"movieId\")[\"rating\"].mean()\n",
        "\n",
        "# Associating id with it's name\n",
        "movie_avg_rating = movies.join(movie_avg_rating, on=\"movieId\")\n",
        "\n",
        "\n",
        "movie_avg_rating.sort_values(\"rating\", ascending=False).head(20)"
      ],
      "execution_count": 60,
      "outputs": [
        {
          "output_type": "execute_result",
          "data": {
            "text/html": [
              "<div>\n",
              "<style scoped>\n",
              "    .dataframe tbody tr th:only-of-type {\n",
              "        vertical-align: middle;\n",
              "    }\n",
              "\n",
              "    .dataframe tbody tr th {\n",
              "        vertical-align: top;\n",
              "    }\n",
              "\n",
              "    .dataframe thead th {\n",
              "        text-align: right;\n",
              "    }\n",
              "</style>\n",
              "<table border=\"1\" class=\"dataframe\">\n",
              "  <thead>\n",
              "    <tr style=\"text-align: right;\">\n",
              "      <th></th>\n",
              "      <th>movieId</th>\n",
              "      <th>title</th>\n",
              "      <th>genres</th>\n",
              "      <th>rating</th>\n",
              "    </tr>\n",
              "  </thead>\n",
              "  <tbody>\n",
              "    <tr>\n",
              "      <th>7656</th>\n",
              "      <td>88448</td>\n",
              "      <td>Paper Birds (Pájaros de papel) (2010)</td>\n",
              "      <td>Comedy|Drama</td>\n",
              "      <td>5.0</td>\n",
              "    </tr>\n",
              "    <tr>\n",
              "      <th>8107</th>\n",
              "      <td>100556</td>\n",
              "      <td>Act of Killing, The (2012)</td>\n",
              "      <td>Documentary</td>\n",
              "      <td>5.0</td>\n",
              "    </tr>\n",
              "    <tr>\n",
              "      <th>9083</th>\n",
              "      <td>143031</td>\n",
              "      <td>Jump In! (2007)</td>\n",
              "      <td>Comedy|Drama|Romance</td>\n",
              "      <td>5.0</td>\n",
              "    </tr>\n",
              "    <tr>\n",
              "      <th>9094</th>\n",
              "      <td>143511</td>\n",
              "      <td>Human (2015)</td>\n",
              "      <td>Documentary</td>\n",
              "      <td>5.0</td>\n",
              "    </tr>\n",
              "    <tr>\n",
              "      <th>9096</th>\n",
              "      <td>143559</td>\n",
              "      <td>L.A. Slasher (2015)</td>\n",
              "      <td>Comedy|Crime|Fantasy</td>\n",
              "      <td>5.0</td>\n",
              "    </tr>\n",
              "    <tr>\n",
              "      <th>4251</th>\n",
              "      <td>6201</td>\n",
              "      <td>Lady Jane (1986)</td>\n",
              "      <td>Drama|Romance</td>\n",
              "      <td>5.0</td>\n",
              "    </tr>\n",
              "    <tr>\n",
              "      <th>8154</th>\n",
              "      <td>102217</td>\n",
              "      <td>Bill Hicks: Revelations (1993)</td>\n",
              "      <td>Comedy</td>\n",
              "      <td>5.0</td>\n",
              "    </tr>\n",
              "    <tr>\n",
              "      <th>8148</th>\n",
              "      <td>102084</td>\n",
              "      <td>Justice League: Doom (2012)</td>\n",
              "      <td>Action|Animation|Fantasy</td>\n",
              "      <td>5.0</td>\n",
              "    </tr>\n",
              "    <tr>\n",
              "      <th>4246</th>\n",
              "      <td>6192</td>\n",
              "      <td>Open Hearts (Elsker dig for evigt) (2002)</td>\n",
              "      <td>Romance</td>\n",
              "      <td>5.0</td>\n",
              "    </tr>\n",
              "    <tr>\n",
              "      <th>9122</th>\n",
              "      <td>145994</td>\n",
              "      <td>Formula of Love (1984)</td>\n",
              "      <td>Comedy</td>\n",
              "      <td>5.0</td>\n",
              "    </tr>\n",
              "    <tr>\n",
              "      <th>8115</th>\n",
              "      <td>100906</td>\n",
              "      <td>Maniac Cop 2 (1990)</td>\n",
              "      <td>Action|Horror|Thriller</td>\n",
              "      <td>5.0</td>\n",
              "    </tr>\n",
              "    <tr>\n",
              "      <th>9129</th>\n",
              "      <td>146662</td>\n",
              "      <td>Dragons: Gift of the Night Fury (2011)</td>\n",
              "      <td>Adventure|Animation|Comedy</td>\n",
              "      <td>5.0</td>\n",
              "    </tr>\n",
              "    <tr>\n",
              "      <th>8074</th>\n",
              "      <td>99636</td>\n",
              "      <td>English Vinglish (2012)</td>\n",
              "      <td>Comedy|Drama</td>\n",
              "      <td>5.0</td>\n",
              "    </tr>\n",
              "    <tr>\n",
              "      <th>5785</th>\n",
              "      <td>31522</td>\n",
              "      <td>Marriage of Maria Braun, The (Ehe der Maria Br...</td>\n",
              "      <td>Drama</td>\n",
              "      <td>5.0</td>\n",
              "    </tr>\n",
              "    <tr>\n",
              "      <th>9131</th>\n",
              "      <td>146684</td>\n",
              "      <td>Cosmic Scrat-tastrophe (2015)</td>\n",
              "      <td>Animation|Children|Comedy</td>\n",
              "      <td>5.0</td>\n",
              "    </tr>\n",
              "    <tr>\n",
              "      <th>9137</th>\n",
              "      <td>147196</td>\n",
              "      <td>The Girls (1961)</td>\n",
              "      <td>Comedy|Romance</td>\n",
              "      <td>5.0</td>\n",
              "    </tr>\n",
              "    <tr>\n",
              "      <th>9138</th>\n",
              "      <td>147250</td>\n",
              "      <td>The Adventures of Sherlock Holmes and Doctor W...</td>\n",
              "      <td>(no genres listed)</td>\n",
              "      <td>5.0</td>\n",
              "    </tr>\n",
              "    <tr>\n",
              "      <th>9140</th>\n",
              "      <td>147286</td>\n",
              "      <td>The Adventures of Sherlock Holmes and Doctor W...</td>\n",
              "      <td>Crime|Mystery</td>\n",
              "      <td>5.0</td>\n",
              "    </tr>\n",
              "    <tr>\n",
              "      <th>9141</th>\n",
              "      <td>147300</td>\n",
              "      <td>Adventures Of Sherlock Holmes And Dr. Watson: ...</td>\n",
              "      <td>Crime|Mystery</td>\n",
              "      <td>5.0</td>\n",
              "    </tr>\n",
              "    <tr>\n",
              "      <th>9142</th>\n",
              "      <td>147326</td>\n",
              "      <td>The Adventures of Sherlock Holmes and Doctor W...</td>\n",
              "      <td>Crime|Mystery</td>\n",
              "      <td>5.0</td>\n",
              "    </tr>\n",
              "  </tbody>\n",
              "</table>\n",
              "</div>"
            ],
            "text/plain": [
              "      movieId  ... rating\n",
              "7656    88448  ...    5.0\n",
              "8107   100556  ...    5.0\n",
              "9083   143031  ...    5.0\n",
              "9094   143511  ...    5.0\n",
              "9096   143559  ...    5.0\n",
              "4251     6201  ...    5.0\n",
              "8154   102217  ...    5.0\n",
              "8148   102084  ...    5.0\n",
              "4246     6192  ...    5.0\n",
              "9122   145994  ...    5.0\n",
              "8115   100906  ...    5.0\n",
              "9129   146662  ...    5.0\n",
              "8074    99636  ...    5.0\n",
              "5785    31522  ...    5.0\n",
              "9131   146684  ...    5.0\n",
              "9137   147196  ...    5.0\n",
              "9138   147250  ...    5.0\n",
              "9140   147286  ...    5.0\n",
              "9141   147300  ...    5.0\n",
              "9142   147326  ...    5.0\n",
              "\n",
              "[20 rows x 4 columns]"
            ]
          },
          "metadata": {
            "tags": []
          },
          "execution_count": 60
        }
      ]
    },
    {
      "cell_type": "markdown",
      "metadata": {
        "id": "tS5kfTXT8L-a",
        "colab_type": "text"
      },
      "source": [
        "Either there are a lot of great movies or they happen to have few ratings but with a high score. Let's see how many ratings each movie has.\n"
      ]
    },
    {
      "cell_type": "code",
      "metadata": {
        "id": "QPMkbe2n7APQ",
        "colab_type": "code",
        "outputId": "261373d8-b2cf-4afa-98e9-c554bda28bba",
        "colab": {
          "base_uri": "https://localhost:8080/",
          "height": 419
        }
      },
      "source": [
        "# Adding a new column\n",
        "votes = ratings.groupby(\"movieId\")[\"rating\"].count()\n",
        "votes.name = \"votes\"\n",
        "movie_avg_rating = pd.merge(movie_avg_rating, votes, on=\"movieId\")\n",
        "\n",
        "# Checking the top movies again\n",
        "movie_avg_rating.sort_values(\"rating\", ascending=False)"
      ],
      "execution_count": 61,
      "outputs": [
        {
          "output_type": "execute_result",
          "data": {
            "text/html": [
              "<div>\n",
              "<style scoped>\n",
              "    .dataframe tbody tr th:only-of-type {\n",
              "        vertical-align: middle;\n",
              "    }\n",
              "\n",
              "    .dataframe tbody tr th {\n",
              "        vertical-align: top;\n",
              "    }\n",
              "\n",
              "    .dataframe thead th {\n",
              "        text-align: right;\n",
              "    }\n",
              "</style>\n",
              "<table border=\"1\" class=\"dataframe\">\n",
              "  <thead>\n",
              "    <tr style=\"text-align: right;\">\n",
              "      <th></th>\n",
              "      <th>movieId</th>\n",
              "      <th>title</th>\n",
              "      <th>genres</th>\n",
              "      <th>rating</th>\n",
              "      <th>votes</th>\n",
              "    </tr>\n",
              "  </thead>\n",
              "  <tbody>\n",
              "    <tr>\n",
              "      <th>7638</th>\n",
              "      <td>88448</td>\n",
              "      <td>Paper Birds (Pájaros de papel) (2010)</td>\n",
              "      <td>Comedy|Drama</td>\n",
              "      <td>5.0</td>\n",
              "      <td>1</td>\n",
              "    </tr>\n",
              "    <tr>\n",
              "      <th>8089</th>\n",
              "      <td>100556</td>\n",
              "      <td>Act of Killing, The (2012)</td>\n",
              "      <td>Documentary</td>\n",
              "      <td>5.0</td>\n",
              "      <td>1</td>\n",
              "    </tr>\n",
              "    <tr>\n",
              "      <th>9065</th>\n",
              "      <td>143031</td>\n",
              "      <td>Jump In! (2007)</td>\n",
              "      <td>Comedy|Drama|Romance</td>\n",
              "      <td>5.0</td>\n",
              "      <td>1</td>\n",
              "    </tr>\n",
              "    <tr>\n",
              "      <th>9076</th>\n",
              "      <td>143511</td>\n",
              "      <td>Human (2015)</td>\n",
              "      <td>Documentary</td>\n",
              "      <td>5.0</td>\n",
              "      <td>1</td>\n",
              "    </tr>\n",
              "    <tr>\n",
              "      <th>9078</th>\n",
              "      <td>143559</td>\n",
              "      <td>L.A. Slasher (2015)</td>\n",
              "      <td>Comedy|Crime|Fantasy</td>\n",
              "      <td>5.0</td>\n",
              "      <td>1</td>\n",
              "    </tr>\n",
              "    <tr>\n",
              "      <th>...</th>\n",
              "      <td>...</td>\n",
              "      <td>...</td>\n",
              "      <td>...</td>\n",
              "      <td>...</td>\n",
              "      <td>...</td>\n",
              "    </tr>\n",
              "    <tr>\n",
              "      <th>9253</th>\n",
              "      <td>157172</td>\n",
              "      <td>Wizards of the Lost Kingdom II (1989)</td>\n",
              "      <td>Action|Fantasy</td>\n",
              "      <td>0.5</td>\n",
              "      <td>1</td>\n",
              "    </tr>\n",
              "    <tr>\n",
              "      <th>7536</th>\n",
              "      <td>85334</td>\n",
              "      <td>Hard Ticket to Hawaii (1987)</td>\n",
              "      <td>Action|Comedy</td>\n",
              "      <td>0.5</td>\n",
              "      <td>1</td>\n",
              "    </tr>\n",
              "    <tr>\n",
              "      <th>6486</th>\n",
              "      <td>53453</td>\n",
              "      <td>Starcrash (a.k.a. Star Crash) (1978)</td>\n",
              "      <td>Action|Adventure|Fantasy|Sci-Fi</td>\n",
              "      <td>0.5</td>\n",
              "      <td>1</td>\n",
              "    </tr>\n",
              "    <tr>\n",
              "      <th>5200</th>\n",
              "      <td>8494</td>\n",
              "      <td>Cincinnati Kid, The (1965)</td>\n",
              "      <td>Drama</td>\n",
              "      <td>0.5</td>\n",
              "      <td>1</td>\n",
              "    </tr>\n",
              "    <tr>\n",
              "      <th>7145</th>\n",
              "      <td>71810</td>\n",
              "      <td>Legionnaire (1998)</td>\n",
              "      <td>Action|Adventure|Drama|War</td>\n",
              "      <td>0.5</td>\n",
              "      <td>1</td>\n",
              "    </tr>\n",
              "  </tbody>\n",
              "</table>\n",
              "<p>9724 rows × 5 columns</p>\n",
              "</div>"
            ],
            "text/plain": [
              "      movieId                                  title  ... rating  votes\n",
              "7638    88448  Paper Birds (Pájaros de papel) (2010)  ...    5.0      1\n",
              "8089   100556             Act of Killing, The (2012)  ...    5.0      1\n",
              "9065   143031                        Jump In! (2007)  ...    5.0      1\n",
              "9076   143511                           Human (2015)  ...    5.0      1\n",
              "9078   143559                    L.A. Slasher (2015)  ...    5.0      1\n",
              "...       ...                                    ...  ...    ...    ...\n",
              "9253   157172  Wizards of the Lost Kingdom II (1989)  ...    0.5      1\n",
              "7536    85334           Hard Ticket to Hawaii (1987)  ...    0.5      1\n",
              "6486    53453   Starcrash (a.k.a. Star Crash) (1978)  ...    0.5      1\n",
              "5200     8494             Cincinnati Kid, The (1965)  ...    0.5      1\n",
              "7145    71810                     Legionnaire (1998)  ...    0.5      1\n",
              "\n",
              "[9724 rows x 5 columns]"
            ]
          },
          "metadata": {
            "tags": []
          },
          "execution_count": 61
        }
      ]
    },
    {
      "cell_type": "markdown",
      "metadata": {
        "id": "bLs6vQVQMuOk",
        "colab_type": "text"
      },
      "source": [
        "As suspected, the \"winners\" just happend to get a single high score. Let's try to get the \"real\" winners by considering the **rating** and the **votes**."
      ]
    },
    {
      "cell_type": "code",
      "metadata": {
        "id": "9GWx5fLR9Em_",
        "colab_type": "code",
        "outputId": "98706667-9516-4cd6-80a6-af486c8a5847",
        "colab": {
          "base_uri": "https://localhost:8080/",
          "height": 419
        }
      },
      "source": [
        "movie_avg_rating = movie_avg_rating.sort_values([\"votes\",\"rating\"],ascending=False)\n",
        "movie_avg_rating"
      ],
      "execution_count": 62,
      "outputs": [
        {
          "output_type": "execute_result",
          "data": {
            "text/html": [
              "<div>\n",
              "<style scoped>\n",
              "    .dataframe tbody tr th:only-of-type {\n",
              "        vertical-align: middle;\n",
              "    }\n",
              "\n",
              "    .dataframe tbody tr th {\n",
              "        vertical-align: top;\n",
              "    }\n",
              "\n",
              "    .dataframe thead th {\n",
              "        text-align: right;\n",
              "    }\n",
              "</style>\n",
              "<table border=\"1\" class=\"dataframe\">\n",
              "  <thead>\n",
              "    <tr style=\"text-align: right;\">\n",
              "      <th></th>\n",
              "      <th>movieId</th>\n",
              "      <th>title</th>\n",
              "      <th>genres</th>\n",
              "      <th>rating</th>\n",
              "      <th>votes</th>\n",
              "    </tr>\n",
              "  </thead>\n",
              "  <tbody>\n",
              "    <tr>\n",
              "      <th>314</th>\n",
              "      <td>356</td>\n",
              "      <td>Forrest Gump (1994)</td>\n",
              "      <td>Comedy|Drama|Romance|War</td>\n",
              "      <td>4.164134</td>\n",
              "      <td>329</td>\n",
              "    </tr>\n",
              "    <tr>\n",
              "      <th>277</th>\n",
              "      <td>318</td>\n",
              "      <td>Shawshank Redemption, The (1994)</td>\n",
              "      <td>Crime|Drama</td>\n",
              "      <td>4.429022</td>\n",
              "      <td>317</td>\n",
              "    </tr>\n",
              "    <tr>\n",
              "      <th>257</th>\n",
              "      <td>296</td>\n",
              "      <td>Pulp Fiction (1994)</td>\n",
              "      <td>Comedy|Crime|Drama|Thriller</td>\n",
              "      <td>4.197068</td>\n",
              "      <td>307</td>\n",
              "    </tr>\n",
              "    <tr>\n",
              "      <th>510</th>\n",
              "      <td>593</td>\n",
              "      <td>Silence of the Lambs, The (1991)</td>\n",
              "      <td>Crime|Horror|Thriller</td>\n",
              "      <td>4.161290</td>\n",
              "      <td>279</td>\n",
              "    </tr>\n",
              "    <tr>\n",
              "      <th>1938</th>\n",
              "      <td>2571</td>\n",
              "      <td>Matrix, The (1999)</td>\n",
              "      <td>Action|Sci-Fi|Thriller</td>\n",
              "      <td>4.192446</td>\n",
              "      <td>278</td>\n",
              "    </tr>\n",
              "    <tr>\n",
              "      <th>...</th>\n",
              "      <td>...</td>\n",
              "      <td>...</td>\n",
              "      <td>...</td>\n",
              "      <td>...</td>\n",
              "      <td>...</td>\n",
              "    </tr>\n",
              "    <tr>\n",
              "      <th>9401</th>\n",
              "      <td>165645</td>\n",
              "      <td>Bad Santa 2 (2016)</td>\n",
              "      <td>Comedy</td>\n",
              "      <td>0.500000</td>\n",
              "      <td>1</td>\n",
              "    </tr>\n",
              "    <tr>\n",
              "      <th>9426</th>\n",
              "      <td>167296</td>\n",
              "      <td>Iron Man (1931)</td>\n",
              "      <td>Drama</td>\n",
              "      <td>0.500000</td>\n",
              "      <td>1</td>\n",
              "    </tr>\n",
              "    <tr>\n",
              "      <th>9540</th>\n",
              "      <td>173307</td>\n",
              "      <td>The Gracefield Incident (2015)</td>\n",
              "      <td>Action|Horror|Sci-Fi</td>\n",
              "      <td>0.500000</td>\n",
              "      <td>1</td>\n",
              "    </tr>\n",
              "    <tr>\n",
              "      <th>9572</th>\n",
              "      <td>175475</td>\n",
              "      <td>The Emoji Movie (2017)</td>\n",
              "      <td>Animation|Children|Comedy</td>\n",
              "      <td>0.500000</td>\n",
              "      <td>1</td>\n",
              "    </tr>\n",
              "    <tr>\n",
              "      <th>9675</th>\n",
              "      <td>184641</td>\n",
              "      <td>Fullmetal Alchemist 2018 (2017)</td>\n",
              "      <td>Action|Adventure|Fantasy</td>\n",
              "      <td>0.500000</td>\n",
              "      <td>1</td>\n",
              "    </tr>\n",
              "  </tbody>\n",
              "</table>\n",
              "<p>9724 rows × 5 columns</p>\n",
              "</div>"
            ],
            "text/plain": [
              "      movieId                             title  ...    rating  votes\n",
              "314       356               Forrest Gump (1994)  ...  4.164134    329\n",
              "277       318  Shawshank Redemption, The (1994)  ...  4.429022    317\n",
              "257       296               Pulp Fiction (1994)  ...  4.197068    307\n",
              "510       593  Silence of the Lambs, The (1991)  ...  4.161290    279\n",
              "1938     2571                Matrix, The (1999)  ...  4.192446    278\n",
              "...       ...                               ...  ...       ...    ...\n",
              "9401   165645                Bad Santa 2 (2016)  ...  0.500000      1\n",
              "9426   167296                   Iron Man (1931)  ...  0.500000      1\n",
              "9540   173307    The Gracefield Incident (2015)  ...  0.500000      1\n",
              "9572   175475            The Emoji Movie (2017)  ...  0.500000      1\n",
              "9675   184641   Fullmetal Alchemist 2018 (2017)  ...  0.500000      1\n",
              "\n",
              "[9724 rows x 5 columns]"
            ]
          },
          "metadata": {
            "tags": []
          },
          "execution_count": 62
        }
      ]
    },
    {
      "cell_type": "markdown",
      "metadata": {
        "id": "SSJGRp7ytYB-",
        "colab_type": "text"
      },
      "source": [
        "Let's now see how many of each genre there is in this dataset\n"
      ]
    },
    {
      "cell_type": "code",
      "metadata": {
        "id": "EvPPqBm3tnJ9",
        "colab_type": "code",
        "colab": {
          "base_uri": "https://localhost:8080/",
          "height": 542
        },
        "outputId": "aa3156d4-5e7e-4e1b-ad81-1a511366e923"
      },
      "source": [
        "# From genres column get each row string, tokenize using | as separator and increment the respective genre\n",
        "genres = movies[\"genres\"].str.get_dummies(\"|\").sum().sort_values(ascending=False)\n",
        "\n",
        "# Using seaborn for it's customization friendly tools\n",
        "sns.set_style(\"whitegrid\")\n",
        "plt.figure(figsize=(16,8))\n",
        "colors = sns.color_palette(\"BuGn_r\", n_colors=len(genres) + 2) # +2 So the least frequent doesn't get 'invisible' \n",
        "\n",
        "# Plotting\n",
        "genres_hist = sns.barplot(x=genres.index, y=genres.values,palette=colors)\n",
        "genres_hist.set_xticklabels(genres_hist.get_xticklabels(), rotation=45)\n",
        "plt.show()"
      ],
      "execution_count": 63,
      "outputs": [
        {
          "output_type": "display_data",
          "data": {
            "image/png": "[encoded data removed]",
            "text/plain": [
              "<Figure size 1152x576 with 1 Axes>"
            ]
          },
          "metadata": {
            "tags": []
          }
        }
      ]
    },
    {
      "cell_type": "markdown",
      "metadata": {
        "id": "qzUU6qSZx7o6",
        "colab_type": "text"
      },
      "source": [
        "From the chart above we can see that:\n",
        "- Drama and Comedy both appear at least twice as much as the other genres.\n",
        "- IMAX, even though not a genre but an video quality attribute, appears in this dataset as a genre\n",
        "\n",
        "\n",
        "Let's now have a look at the rating distribution of this sample and the distribution of the top 5 movies."
      ]
    },
    {
      "cell_type": "code",
      "metadata": {
        "id": "M9BhXM0byktB",
        "colab_type": "code",
        "colab": {
          "base_uri": "https://localhost:8080/",
          "height": 497
        },
        "outputId": "e4cf44ca-9742-4d08-d4c5-6ee80acf0bae"
      },
      "source": [
        "plt.figure(figsize=(16,8))\n",
        "plt.subplot(1,2,1)\n",
        "ratings_boxplot = sns.boxplot(data=ratings, y=\"rating\")\n",
        "plt.subplot(1,2,2)\n",
        "top5movies_boxplot =  sns.boxplot(data=ratings.query(\"movieId in [356, 318, 296, 593, 2571]\"), x=\"movieId\", y=\"rating\")\n",
        "plt.show()"
      ],
      "execution_count": 64,
      "outputs": [
        {
          "output_type": "display_data",
          "data": {
            "image/png": "[encoded data removed]",
            "text/plain": [
              "<Figure size 1152x576 with 2 Axes>"
            ]
          },
          "metadata": {
            "tags": []
          }
        }
      ]
    },
    {
      "cell_type": "markdown",
      "metadata": {
        "id": "m7R5q_76-Nau",
        "colab_type": "text"
      },
      "source": [
        "## Observations\n",
        "From the chart on the **left**:\n",
        "- In this dataset the majority of the movies got a rating between 3 and 4\n",
        "- 3.5 was the median value\n",
        "- The amount of low ratings varied more than the high ratings, staying between 1.5 and 3\n",
        "- There are some outlier regarding low ratings\n",
        "\n",
        "From the chart on the **right**:\n",
        "- In three movies (296, 318, 2571) the distribution was the same, meaning viewers rating were very similar.\n",
        "- In two movies (356, 593) the median was 4, which is lower than the other 3.\n",
        "- Movie 318 had a more 'stable' distribution of ratings, with less variation on it's lower quartile. Overall this consistency means it's a little bit easier to predict ratings on this movie.\n",
        "\n"
      ]
    }
  ]
}
